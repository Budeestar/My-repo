{
 "cells": [
  {
   "cell_type": "code",
   "execution_count": 7,
   "metadata": {},
   "outputs": [
    {
     "name": "stdout",
     "output_type": "stream",
     "text": [
      "Error: 0.4685343254580603\n",
      "Error: 0.005002426725395313\n",
      "Error: 0.0034544054615330507\n",
      "Error: 0.002786557019672356\n",
      "Error: 0.0023941155055209216\n",
      "Error: 0.002128885268225415\n",
      "[[0.00197173]\n",
      " [0.99782397]\n",
      " [0.99804356]\n",
      " [0.00163392]]\n"
     ]
    }
   ],
   "source": [
    "import numpy as np\n",
    "\n",
    "def nonlin(x,deriv=False):\n",
    "    if(deriv==True):\n",
    "        return (x*(1-x))\n",
    "    return 1/(1+np.exp(-x))\n",
    "\n",
    "\n",
    "X=np.array([[0, 0, 1], [1, 1, 1], [1, 0, 1], [0, 1, 1]])\n",
    "Y=np.array([[0, 1, 1, 0]]).T\n",
    "np.random.seed(1)\n",
    "\n",
    "\n",
    "syn0=2*np.random.random((3,4))-1\n",
    "syn1=2*np.random.random((4,1))-1\n",
    "\n",
    "\n",
    "for j in range(60000):\n",
    "    l0=X\n",
    "    l1=nonlin(np.dot(l0,syn0))\n",
    "    l2=nonlin(np.dot(l1,syn1))\n",
    "    \n",
    "    l2_error=Y-l2\n",
    "    \n",
    "    if(j%10000==0):\n",
    "        print('Error:',np.mean(abs(l2_error)))\n",
    "    \n",
    "    l2_delta=l2_error*nonlin(l2,deriv=True)\n",
    "    l1_error=l2_delta.dot(syn1.T)\n",
    "    l1_delta=l1_error*nonlin(l1,deriv=True)\n",
    "    \n",
    "    syn1+=l1.T.dot(l2_delta)\n",
    "    syn0+=l0.T.dot(l1_delta)\n",
    "print(l2)"
   ]
  }
 ],
 "metadata": {
  "kernelspec": {
   "display_name": "Python 3",
   "language": "python",
   "name": "python3"
  },
  "language_info": {
   "codemirror_mode": {
    "name": "ipython",
    "version": 3
   },
   "file_extension": ".py",
   "mimetype": "text/x-python",
   "name": "python",
   "nbconvert_exporter": "python",
   "pygments_lexer": "ipython3",
   "version": "3.6.4"
  }
 },
 "nbformat": 4,
 "nbformat_minor": 2
}
