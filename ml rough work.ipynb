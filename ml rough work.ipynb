{
 "cells": [
  {
   "cell_type": "code",
   "execution_count": 38,
   "metadata": {},
   "outputs": [],
   "source": [
    "#importing all packages, and training set in df\n",
    "import pandas as pd\n",
    "import random\n",
    "import numpy as np\n",
    "import matplotlib.pyplot as plt\n",
    "df=pd.read_csv('/home/aasim/Downloads/train.csv',delimiter=',')"
   ]
  },
  {
   "cell_type": "code",
   "execution_count": 39,
   "metadata": {},
   "outputs": [
    {
     "data": {
      "text/plain": [
       "<matplotlib.collections.PathCollection at 0x7f027a23a7f0>"
      ]
     },
     "execution_count": 39,
     "metadata": {},
     "output_type": "execute_result"
    },
    {
     "data": {
      "image/png": "[encoded data removed]",
      "text/plain": [
       "<matplotlib.figure.Figure at 0x7f027a3014a8>"
      ]
     },
     "metadata": {},
     "output_type": "display_data"
    }
   ],
   "source": [
    "#convert DataFrame to list\n",
    "dflist=df.values\n",
    "n,m=dflist.shape\n",
    "#extract x and y columns\n",
    "x=dflist[:,0]\n",
    "y=dflist[:,1]\n",
    "#reshaping arrays\n",
    "x=x.reshape(n,1)\n",
    "y=y.reshape(n,1)\n",
    "#plotting training data\n",
    "plt.scatter(x,y,marker='.',color='red')"
   ]
  },
  {
   "cell_type": "code",
   "execution_count": 50,
   "metadata": {},
   "outputs": [
    {
     "name": "stdout",
     "output_type": "stream",
     "text": [
      "[[0.88 1.29]]\n"
     ]
    }
   ],
   "source": [
    "ones=np.ones((n,1))\n",
    "xnew=np.hstack((ones,x))#adding a column of 1's to x\n",
    "theta0=random.randrange(0,1000)*0.01\n",
    "theta1=random.randrange(0,1000)*0.01\n",
    "thetalist=[theta0,theta1]\n",
    "#make a numpy array of theta\n",
    "theta=np.array(thetalist)\n",
    "theta=theta.reshape(1,m)#a proper theta array is set\n",
    "print(theta)"
   ]
  },
  {
   "cell_type": "code",
   "execution_count": 53,
   "metadata": {},
   "outputs": [
    {
     "name": "stdout",
     "output_type": "stream",
     "text": [
      "nan\n"
     ]
    }
   ],
   "source": [
    "J=0\n",
    "learning_rate=0.1\n",
    "for i in range(1000000):\n",
    "    J=(1/(2*m))*np.sum(np.square(np.dot(xnew,theta.T)-y))\n",
    "    for i in range(0,m):\n",
    "        theta[0,i]=theta[0,i]-(learning_rate/m)*np.sum((np.dot(xnew,theta.T)-y)*xnew[i,:])\n",
    "print(J)"
   ]
  },
  {
   "cell_type": "code",
   "execution_count": null,
   "metadata": {},
   "outputs": [],
   "source": []
  }
 ],
 "metadata": {
  "kernelspec": {
   "display_name": "Python 3",
   "language": "python",
   "name": "python3"
  },
  "language_info": {
   "codemirror_mode": {
    "name": "ipython",
    "version": 3
   },
   "file_extension": ".py",
   "mimetype": "text/x-python",
   "name": "python",
   "nbconvert_exporter": "python",
   "pygments_lexer": "ipython3",
   "version": "3.6.4"
  }
 },
 "nbformat": 4,
 "nbformat_minor": 2
}
